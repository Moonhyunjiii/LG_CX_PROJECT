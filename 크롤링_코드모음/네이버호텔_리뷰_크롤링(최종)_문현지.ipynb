{
 "cells": [
  {
   "cell_type": "code",
   "execution_count": 141,
   "id": "149353f7-68dd-4001-9296-79c11d838292",
   "metadata": {},
   "outputs": [],
   "source": [
    "from selenium import webdriver\n",
    "from selenium.webdriver.common.by import By\n",
    "from selenium.webdriver.common.keys import Keys\n",
    "from selenium.webdriver.chrome.service import Service\n",
    "from selenium.webdriver.chrome.options import Options\n",
    "from selenium.webdriver.support.ui import WebDriverWait\n",
    "from selenium.webdriver.support import expected_conditions as EC\n",
    "from bs4 import BeautifulSoup as bs\n",
    "from urllib.parse import quote\n",
    "import pandas as pd\n",
    "from tqdm import tqdm\n",
    "import pyperclip\n",
    "import time"
   ]
  },
  {
   "cell_type": "code",
   "execution_count": 142,
   "id": "e30e7acf-1cd0-469f-8ac1-4c0276bb8bc0",
   "metadata": {},
   "outputs": [],
   "source": [
    "# 드라이버 설정\n",
    "options = Options()\n",
    "options.add_argument(\"--start-maximized\")  # 창 최대화\n",
    "driver = webdriver.Chrome(options=options)\n",
    "\n",
    "url = \"https://hotels.naver.com/\"\n",
    "driver.get(url)"
   ]
  },
  {
   "cell_type": "code",
   "execution_count": 143,
   "id": "e0a4e39d-33dd-4942-a996-d220879e4e75",
   "metadata": {},
   "outputs": [],
   "source": [
    "# 찾고자하는 여행지 키워드 적어주세요.\n",
    "keyword = \"7호선 상동역\""
   ]
  },
  {
   "cell_type": "code",
   "execution_count": 144,
   "id": "3814b1f7-5571-4137-acdd-075f59926db4",
   "metadata": {},
   "outputs": [],
   "source": [
    "# 어디로 가시나요? 클릭\n",
    "locationSearch = WebDriverWait(driver, 10).until(\n",
    "    EC.presence_of_element_located((By.XPATH, '//*[@id=\"__next\"]/div/div[1]/div[2]/div/div/div/div[1]/button'))\n",
    ")\n",
    "\n",
    "locationSearch.click()\n",
    "\n",
    "# 키워드 카피 후 검색하기\n",
    "pyperclip.copy(keyword)\n",
    "locationName = WebDriverWait(driver, 10).until(\n",
    "    EC.presence_of_element_located((By.XPATH, '//*[@id=\"__next\"]/div/div[2]/div[1]/div/input'))\n",
    ")\n",
    "\n",
    "locationName.send_keys(Keys.CONTROL + 'v')\n",
    "\n",
    "# 키워드 첫번째 요소 클릭 -> 조회엔터\n",
    "# XPATH\n",
    "# WebDriverWait(driver, 10).until(EC.presence_of_element_located((By.XPATH, '//*[@id=\"__next\"]/div/div[2]/div[2]/section/ul/li[1]/a'))).click()\n",
    "# WebDriverWait(driver, 10).until(EC.presence_of_element_located((By.XPATH, '//*[@id=\"__next\"]/div/div[1]/div[2]/div/div/button'))).click()\n",
    "\n",
    "# CSS_SELECTOR\n",
    "\n",
    "WebDriverWait(driver, 10).until(EC.presence_of_element_located((By.CSS_SELECTOR, 'a.SearchResults_anchor__eU0Fy'))).click()\n",
    "WebDriverWait(driver, 10).until(EC.presence_of_element_located((By.CSS_SELECTOR, 'button.SearchBox_search__0Suoj'))).click()"
   ]
  },
  {
   "cell_type": "code",
   "execution_count": 145,
   "id": "d363f40a-af6e-494f-9cbf-13ea52c6f9ee",
   "metadata": {},
   "outputs": [],
   "source": [
    "review_data = []\n",
    "\n",
    "def get_hotel_data():\n",
    "    while True:\n",
    "        # 호텔 목록이 로드될 때까지 대기\n",
    "        hotelsList = WebDriverWait(driver, 10).until(\n",
    "            EC.presence_of_all_elements_located((By.CSS_SELECTOR, \"li.SearchList_HotelItem__RRmaZ > a\"))\n",
    "        )\n",
    "        \n",
    "        # 호텔 목록의 개수가 14개가 아닌 경우, 마지막 페이지로 간주\n",
    "        if len(hotelsList) < 14:\n",
    "            print(\"마지막 페이지 발견\")\n",
    "            print(f\"수집할 호텔 개수: {len(hotelsList)}\")\n",
    "        \n",
    "        # 호텔 링크 수집\n",
    "        hotel_links = [hotel.get_attribute('href') for hotel in hotelsList]\n",
    "        \n",
    "        # 각 호텔 페이지에서 데이터 수집\n",
    "        for link in tqdm(hotel_links):  \n",
    "            driver.execute_script(\"window.open(arguments[0]);\", link)\n",
    "            driver.switch_to.window(driver.window_handles[-1])  # 새 탭으로 전환\n",
    "        \n",
    "            try:\n",
    "                time.sleep(2)  # 로딩 대기\n",
    "                # BeautifulSoup 사용을 위해 페이지 소스 가져오기\n",
    "                soup = bs(driver.page_source, 'html.parser')\n",
    "                \n",
    "                hotel_title = soup.select_one('h3 span').text.strip() if soup.select_one('h3 span') else 'Unknown'\n",
    "                hotel_grade = soup.select_one('h3 div i').text.strip() if soup.select_one('h3 div i') else 'Unknown'\n",
    "                \n",
    "                # 네 번째 <li>의 <div class=\"wrap\"> 아래 모든 <span> 태그 찾기\n",
    "                rating_list = soup.select('ul.common_infoList__GR183 > li:nth-of-type(4) div.wrap span.common_txt__5usYI')\n",
    "                \n",
    "                # 평점 초기화\n",
    "                hc_score = '0'\n",
    "                bk_score = '0'\n",
    "                ta_score = '0'\n",
    "                \n",
    "                # 모든 <li> 태그를 검색하여 평점 정보를 추출\n",
    "                rating_items = soup.select('ul.common_infoList__GR183 > li')\n",
    "                \n",
    "                for item in rating_items:\n",
    "                    # <i> 태그의 data-label 속성을 검사하여 평점 관련 항목인지 확인\n",
    "                    data_label = item.find('i')['data-label']\n",
    "                    if data_label == 'rating':\n",
    "                        # 평점 정보를 담고 있는 <div class=\"wrap\"> 아래의 <span> 태그 찾기\n",
    "                        spans = item.select('div.wrap > span.common_txt__5usYI')\n",
    "                        for span in spans:\n",
    "                            text = span.get_text(strip=True)\n",
    "                            if '호텔스컴바인' in text:\n",
    "                                hc_score = span.find('b').get_text(strip=True) if span.find('b') else '0'\n",
    "                            elif '부킹닷컴' in text:\n",
    "                                bk_score = span.find('b').get_text(strip=True) if span.find('b') else '0'\n",
    "                            elif '트립어드바이저' in text:\n",
    "                                ta_score = span.find('b').get_text(strip=True) if span.find('b') else '0'\n",
    "                # 실행\n",
    "                sort_by_lowest_rating()\n",
    "                \n",
    "                # 리뷰 수집\n",
    "                reviews = soup.select('ul.common_ReviewList__XlcWm > li.common_item__dEnNf')\n",
    "                for review in reviews:\n",
    "                    title = review.select_one('div.common_title_txt__0YGK_').text.strip() if review.select_one('div.common_title_txt__0YGK_') else ''\n",
    "                    positive_feedback = review.select_one('p.common_as_positive__MaGjy').text.strip() if review.select_one('p.common_as_positive__MaGjy') else ''\n",
    "                    negative_feedback = review.select_one('p.common_as_negative__cKs_1').text.strip() if review.select_one('p.common_as_negative__cKs_1') else ''\n",
    "                    \n",
    "                    # 리뷰를 하나의 문자열로 포맷팅\n",
    "                    review_text = f\"{title} {positive_feedback} {negative_feedback}\"\n",
    "                    \n",
    "                review_data.append({\n",
    "                    '호텔이름': hotel_title,\n",
    "                    '호텔성급': hotel_grade,\n",
    "                    '부킹닷컴평점': bk_score,\n",
    "                    '호텔스컴바인평점': hc_score,\n",
    "                    '트립어드바이저평점': ta_score,\n",
    "                    '리뷰': review_text,\n",
    "                    '링크': link\n",
    "                })\n",
    "                \n",
    "            except Exception as e:\n",
    "                print(f\"오류 발생: {e}\")\n",
    "            finally:\n",
    "                # 현재 탭 닫기\n",
    "                driver.close()\n",
    "                # 원래 탭으로 전환\n",
    "                driver.switch_to.window(driver.window_handles[0])\n",
    "\n",
    "        # 페이지네이션 다음 버튼 확인\n",
    "        try:\n",
    "            next_button = WebDriverWait(driver, 10).until(\n",
    "                EC.presence_of_element_located((By.CSS_SELECTOR, 'button.Pagination_next__tTpJB'))\n",
    "            )\n",
    "            # 버튼이 비활성화되었는지 확인\n",
    "            if 'disabled' in next_button.get_attribute('class') or not next_button.is_enabled():\n",
    "                print(\"페이지네이션의 다음 버튼이 비활성화되었습니다. 데이터 수집을 종료합니다.\")\n",
    "                break\n",
    "            else:\n",
    "                next_button.click()\n",
    "                time.sleep(3)  # 다음 페이지 로딩 대기\n",
    "        except Exception as e:\n",
    "            print(f\"페이지네이션 오류 발생: {e}\")\n",
    "            break"
   ]
  },
  {
   "cell_type": "code",
   "execution_count": 146,
   "id": "c0e7f684-e2bb-4f77-8b1d-9c834c10cc54",
   "metadata": {},
   "outputs": [],
   "source": [
    "# 평점 낮은 순으로 변경하는 함수\n",
    "def sort_by_lowest_rating():\n",
    "    try:\n",
    "        # driver.switch_to.window(driver.window_handles[-1])  # 새 탭으로 전환\n",
    "        \n",
    "        # 이용 후기 탭 클릭\n",
    "        review_tab = None\n",
    "        tabs = driver.find_elements(By.CSS_SELECTOR, 'div.common_Tab__ZuTPd > div > a.common_item__ZZa4H')\n",
    "        for tab in tabs:\n",
    "            if '이용후기' in tab.text:\n",
    "                review_tab = tab\n",
    "                break\n",
    "        \n",
    "        if review_tab:\n",
    "            review_tab.click()\n",
    "            # 이용 후기 탭 클릭 후 드롭다운 메뉴가 나타날 때까지 대기\n",
    "            try:\n",
    "                WebDriverWait(driver, 3).until(\n",
    "                    EC.presence_of_element_located((By.CSS_SELECTOR, 'div.common_SortAndLanguage__lahQR .common_sort__z_v6q'))\n",
    "                )\n",
    "            except:\n",
    "                print(\"드롭다운 메뉴를 찾을 수 없습니다. 리뷰가 없는 페이지일 수 있습니다.\")\n",
    "                return  # 드롭다운 메뉴가 없으면 함수 종료\n",
    "        \n",
    "           # 드롭다운 메뉴 클릭하여 열기\n",
    "            sort_dropdown = WebDriverWait(driver, 10).until(\n",
    "                EC.element_to_be_clickable((By.CSS_SELECTOR, 'div.common_SortAndLanguage__lahQR .common_sort__z_v6q'))\n",
    "            )\n",
    "            sort_dropdown.click()\n",
    "            \n",
    "            # 평점 낮은 순 선택\n",
    "            lowest_rating_option = WebDriverWait(driver, 10).until(\n",
    "                EC.element_to_be_clickable((By.CSS_SELECTOR, 'div.common_SortAndLanguage__lahQR .common_select__jY2oE option[value=\"worst\"]'))\n",
    "            )\n",
    "            lowest_rating_option.click()\n",
    "            \n",
    "            # 평점 낮은 순 정렬 후 리뷰 리스트가 나타나는지 확인\n",
    "            try:\n",
    "                WebDriverWait(driver, 3).until(\n",
    "                    EC.presence_of_element_located((By.CSS_SELECTOR, 'ul.common_ReviewList__XlcWm'))\n",
    "                )\n",
    "                print(\"정렬 기준을 평점 낮은 순으로 변경했습니다.\")\n",
    "            except:\n",
    "                print(\"리뷰 리스트를 찾을 수 없습니다. 리뷰가 없는 페이지일 수 있습니다.\")\n",
    "                return  # 리뷰 리스트가 없으면 함수 종료\n",
    "\n",
    "        else:\n",
    "            print(\"이용후기 탭을 찾을 수 없습니다.\")\n",
    "            return  # 이용후기 탭이 없는 경우 함수 종료\n",
    "        \n",
    "    except Exception as e:\n",
    "        print(f\"정렬 변경 오류 발생: {e}\")"
   ]
  },
  {
   "cell_type": "code",
   "execution_count": 147,
   "id": "358854e0-15ee-44ea-a30a-436758084503",
   "metadata": {},
   "outputs": [
    {
     "name": "stderr",
     "output_type": "stream",
     "text": [
      "  7%|▋         | 1/14 [00:02<00:38,  3.00s/it]"
     ]
    },
    {
     "name": "stdout",
     "output_type": "stream",
     "text": [
      "정렬 기준을 평점 낮은 순으로 변경했습니다.\n"
     ]
    },
    {
     "name": "stderr",
     "output_type": "stream",
     "text": [
      " 14%|█▍        | 2/14 [00:06<00:36,  3.01s/it]"
     ]
    },
    {
     "name": "stdout",
     "output_type": "stream",
     "text": [
      "정렬 기준을 평점 낮은 순으로 변경했습니다.\n"
     ]
    },
    {
     "name": "stderr",
     "output_type": "stream",
     "text": [
      " 21%|██▏       | 3/14 [00:11<00:45,  4.15s/it]"
     ]
    },
    {
     "name": "stdout",
     "output_type": "stream",
     "text": [
      "드롭다운 메뉴를 찾을 수 없습니다. 리뷰가 없는 페이지일 수 있습니다.\n"
     ]
    },
    {
     "name": "stderr",
     "output_type": "stream",
     "text": [
      " 29%|██▊       | 4/14 [00:14<00:36,  3.69s/it]"
     ]
    },
    {
     "name": "stdout",
     "output_type": "stream",
     "text": [
      "정렬 기준을 평점 낮은 순으로 변경했습니다.\n"
     ]
    },
    {
     "name": "stderr",
     "output_type": "stream",
     "text": [
      " 36%|███▌      | 5/14 [00:16<00:29,  3.24s/it]"
     ]
    },
    {
     "name": "stdout",
     "output_type": "stream",
     "text": [
      "이용후기 탭을 찾을 수 없습니다.\n"
     ]
    },
    {
     "name": "stderr",
     "output_type": "stream",
     "text": [
      " 43%|████▎     | 6/14 [00:23<00:33,  4.20s/it]"
     ]
    },
    {
     "name": "stdout",
     "output_type": "stream",
     "text": [
      "정렬 기준을 평점 낮은 순으로 변경했습니다.\n"
     ]
    },
    {
     "name": "stderr",
     "output_type": "stream",
     "text": [
      " 50%|█████     | 7/14 [00:28<00:32,  4.61s/it]"
     ]
    },
    {
     "name": "stdout",
     "output_type": "stream",
     "text": [
      "드롭다운 메뉴를 찾을 수 없습니다. 리뷰가 없는 페이지일 수 있습니다.\n"
     ]
    },
    {
     "name": "stderr",
     "output_type": "stream",
     "text": [
      " 57%|█████▋    | 8/14 [00:31<00:24,  4.10s/it]"
     ]
    },
    {
     "name": "stdout",
     "output_type": "stream",
     "text": [
      "정렬 기준을 평점 낮은 순으로 변경했습니다.\n"
     ]
    },
    {
     "name": "stderr",
     "output_type": "stream",
     "text": [
      " 64%|██████▍   | 9/14 [00:33<00:17,  3.53s/it]"
     ]
    },
    {
     "name": "stdout",
     "output_type": "stream",
     "text": [
      "이용후기 탭을 찾을 수 없습니다.\n"
     ]
    },
    {
     "name": "stderr",
     "output_type": "stream",
     "text": [
      " 71%|███████▏  | 10/14 [00:36<00:13,  3.36s/it]"
     ]
    },
    {
     "name": "stdout",
     "output_type": "stream",
     "text": [
      "정렬 기준을 평점 낮은 순으로 변경했습니다.\n"
     ]
    },
    {
     "name": "stderr",
     "output_type": "stream",
     "text": [
      " 79%|███████▊  | 11/14 [00:39<00:09,  3.13s/it]"
     ]
    },
    {
     "name": "stdout",
     "output_type": "stream",
     "text": [
      "이용후기 탭을 찾을 수 없습니다.\n"
     ]
    },
    {
     "name": "stderr",
     "output_type": "stream",
     "text": [
      " 86%|████████▌ | 12/14 [00:41<00:05,  2.88s/it]"
     ]
    },
    {
     "name": "stdout",
     "output_type": "stream",
     "text": [
      "이용후기 탭을 찾을 수 없습니다.\n"
     ]
    },
    {
     "name": "stderr",
     "output_type": "stream",
     "text": [
      " 93%|█████████▎| 13/14 [00:43<00:02,  2.68s/it]"
     ]
    },
    {
     "name": "stdout",
     "output_type": "stream",
     "text": [
      "이용후기 탭을 찾을 수 없습니다.\n"
     ]
    },
    {
     "name": "stderr",
     "output_type": "stream",
     "text": [
      "100%|██████████| 14/14 [00:46<00:00,  3.30s/it]"
     ]
    },
    {
     "name": "stdout",
     "output_type": "stream",
     "text": [
      "이용후기 탭을 찾을 수 없습니다.\n"
     ]
    },
    {
     "name": "stderr",
     "output_type": "stream",
     "text": [
      "\n",
      "  7%|▋         | 1/14 [00:02<00:29,  2.26s/it]"
     ]
    },
    {
     "name": "stdout",
     "output_type": "stream",
     "text": [
      "이용후기 탭을 찾을 수 없습니다.\n"
     ]
    },
    {
     "name": "stderr",
     "output_type": "stream",
     "text": [
      " 14%|█▍        | 2/14 [00:04<00:27,  2.31s/it]"
     ]
    },
    {
     "name": "stdout",
     "output_type": "stream",
     "text": [
      "이용후기 탭을 찾을 수 없습니다.\n"
     ]
    },
    {
     "name": "stderr",
     "output_type": "stream",
     "text": [
      " 21%|██▏       | 3/14 [00:06<00:25,  2.32s/it]"
     ]
    },
    {
     "name": "stdout",
     "output_type": "stream",
     "text": [
      "이용후기 탭을 찾을 수 없습니다.\n"
     ]
    },
    {
     "name": "stderr",
     "output_type": "stream",
     "text": [
      " 29%|██▊       | 4/14 [00:09<00:23,  2.31s/it]"
     ]
    },
    {
     "name": "stdout",
     "output_type": "stream",
     "text": [
      "이용후기 탭을 찾을 수 없습니다.\n"
     ]
    },
    {
     "name": "stderr",
     "output_type": "stream",
     "text": [
      " 36%|███▌      | 5/14 [00:11<00:20,  2.33s/it]"
     ]
    },
    {
     "name": "stdout",
     "output_type": "stream",
     "text": [
      "이용후기 탭을 찾을 수 없습니다.\n"
     ]
    },
    {
     "name": "stderr",
     "output_type": "stream",
     "text": [
      " 43%|████▎     | 6/14 [00:13<00:18,  2.34s/it]"
     ]
    },
    {
     "name": "stdout",
     "output_type": "stream",
     "text": [
      "이용후기 탭을 찾을 수 없습니다.\n"
     ]
    },
    {
     "name": "stderr",
     "output_type": "stream",
     "text": [
      " 50%|█████     | 7/14 [00:16<00:16,  2.36s/it]"
     ]
    },
    {
     "name": "stdout",
     "output_type": "stream",
     "text": [
      "이용후기 탭을 찾을 수 없습니다.\n"
     ]
    },
    {
     "name": "stderr",
     "output_type": "stream",
     "text": [
      " 57%|█████▋    | 8/14 [00:18<00:14,  2.34s/it]"
     ]
    },
    {
     "name": "stdout",
     "output_type": "stream",
     "text": [
      "이용후기 탭을 찾을 수 없습니다.\n"
     ]
    },
    {
     "name": "stderr",
     "output_type": "stream",
     "text": [
      " 64%|██████▍   | 9/14 [00:21<00:11,  2.34s/it]"
     ]
    },
    {
     "name": "stdout",
     "output_type": "stream",
     "text": [
      "이용후기 탭을 찾을 수 없습니다.\n"
     ]
    },
    {
     "name": "stderr",
     "output_type": "stream",
     "text": [
      " 71%|███████▏  | 10/14 [00:23<00:09,  2.36s/it]"
     ]
    },
    {
     "name": "stdout",
     "output_type": "stream",
     "text": [
      "이용후기 탭을 찾을 수 없습니다.\n"
     ]
    },
    {
     "name": "stderr",
     "output_type": "stream",
     "text": [
      " 79%|███████▊  | 11/14 [00:25<00:07,  2.36s/it]"
     ]
    },
    {
     "name": "stdout",
     "output_type": "stream",
     "text": [
      "이용후기 탭을 찾을 수 없습니다.\n"
     ]
    },
    {
     "name": "stderr",
     "output_type": "stream",
     "text": [
      " 86%|████████▌ | 12/14 [00:28<00:04,  2.34s/it]"
     ]
    },
    {
     "name": "stdout",
     "output_type": "stream",
     "text": [
      "이용후기 탭을 찾을 수 없습니다.\n"
     ]
    },
    {
     "name": "stderr",
     "output_type": "stream",
     "text": [
      " 93%|█████████▎| 13/14 [00:33<00:03,  3.26s/it]"
     ]
    },
    {
     "name": "stdout",
     "output_type": "stream",
     "text": [
      "드롭다운 메뉴를 찾을 수 없습니다. 리뷰가 없는 페이지일 수 있습니다.\n"
     ]
    },
    {
     "name": "stderr",
     "output_type": "stream",
     "text": [
      "100%|██████████| 14/14 [00:35<00:00,  2.56s/it]"
     ]
    },
    {
     "name": "stdout",
     "output_type": "stream",
     "text": [
      "이용후기 탭을 찾을 수 없습니다.\n",
      "페이지네이션의 다음 버튼이 비활성화되었습니다. 데이터 수집을 종료합니다.\n"
     ]
    },
    {
     "name": "stderr",
     "output_type": "stream",
     "text": [
      "\n"
     ]
    }
   ],
   "source": [
    "# 데이터 수집 함수 호출\n",
    "get_hotel_data()"
   ]
  },
  {
   "cell_type": "code",
   "execution_count": 148,
   "id": "de6f2cbf-46c6-4b5c-b9d2-f0a97b8c5956",
   "metadata": {},
   "outputs": [
    {
     "data": {
      "text/html": [
       "<div>\n",
       "<style scoped>\n",
       "    .dataframe tbody tr th:only-of-type {\n",
       "        vertical-align: middle;\n",
       "    }\n",
       "\n",
       "    .dataframe tbody tr th {\n",
       "        vertical-align: top;\n",
       "    }\n",
       "\n",
       "    .dataframe thead th {\n",
       "        text-align: right;\n",
       "    }\n",
       "</style>\n",
       "<table border=\"1\" class=\"dataframe\">\n",
       "  <thead>\n",
       "    <tr style=\"text-align: right;\">\n",
       "      <th></th>\n",
       "      <th>호텔이름</th>\n",
       "      <th>호텔성급</th>\n",
       "      <th>부킹닷컴평점</th>\n",
       "      <th>호텔스컴바인평점</th>\n",
       "      <th>트립어드바이저평점</th>\n",
       "      <th>리뷰</th>\n",
       "      <th>링크</th>\n",
       "    </tr>\n",
       "  </thead>\n",
       "  <tbody>\n",
       "    <tr>\n",
       "      <th>0</th>\n",
       "      <td>부천 고려 호텔</td>\n",
       "      <td>3성급</td>\n",
       "      <td>7.2</td>\n",
       "      <td>8</td>\n",
       "      <td>3.5</td>\n",
       "      <td>\"최고\"</td>\n",
       "      <td>https://hotels.naver.com/hotels/N1658848?adult...</td>\n",
       "    </tr>\n",
       "    <tr>\n",
       "      <th>1</th>\n",
       "      <td>폴라리스 호텔</td>\n",
       "      <td>3급</td>\n",
       "      <td>7.9</td>\n",
       "      <td>8.5</td>\n",
       "      <td>3.5</td>\n",
       "      <td>\"매우 좋음\"  슬리퍼가 없었던 점이 불편했어요.</td>\n",
       "      <td>https://hotels.naver.com/hotels/N1711337?adult...</td>\n",
       "    </tr>\n",
       "    <tr>\n",
       "      <th>2</th>\n",
       "      <td>부천 플로체 호텔</td>\n",
       "      <td>3급</td>\n",
       "      <td>0</td>\n",
       "      <td>7.8</td>\n",
       "      <td>4.5</td>\n",
       "      <td>\"매우 좋음\"  슬리퍼가 없었던 점이 불편했어요.</td>\n",
       "      <td>https://hotels.naver.com/hotels/N1714774?adult...</td>\n",
       "    </tr>\n",
       "    <tr>\n",
       "      <th>3</th>\n",
       "      <td>호텔 제니스</td>\n",
       "      <td>1성급</td>\n",
       "      <td>6.8</td>\n",
       "      <td>7.6</td>\n",
       "      <td>3.5</td>\n",
       "      <td>\"만족\" 조식 이좋았어요</td>\n",
       "      <td>https://hotels.naver.com/hotels/N2004268?adult...</td>\n",
       "    </tr>\n",
       "    <tr>\n",
       "      <th>4</th>\n",
       "      <td>B-Stay 부천호텔</td>\n",
       "      <td>2성급</td>\n",
       "      <td>0</td>\n",
       "      <td>8.5</td>\n",
       "      <td>0</td>\n",
       "      <td>\"만족\" 조식 이좋았어요</td>\n",
       "      <td>https://hotels.naver.com/hotels/N4479658?adult...</td>\n",
       "    </tr>\n",
       "    <tr>\n",
       "      <th>5</th>\n",
       "      <td>호텔 코보스</td>\n",
       "      <td>3급</td>\n",
       "      <td>0</td>\n",
       "      <td>7.9</td>\n",
       "      <td>4</td>\n",
       "      <td>\"Recommended\"</td>\n",
       "      <td>https://hotels.naver.com/hotels/N4012129?adult...</td>\n",
       "    </tr>\n",
       "    <tr>\n",
       "      <th>6</th>\n",
       "      <td>멀티 부티크 호텔 K</td>\n",
       "      <td>2급</td>\n",
       "      <td>0</td>\n",
       "      <td>0</td>\n",
       "      <td>3</td>\n",
       "      <td>\"Recommended\"</td>\n",
       "      <td>https://hotels.naver.com/hotels/N3005324?adult...</td>\n",
       "    </tr>\n",
       "    <tr>\n",
       "      <th>7</th>\n",
       "      <td>Sr호텔</td>\n",
       "      <td>2급</td>\n",
       "      <td>7.8</td>\n",
       "      <td>7.7</td>\n",
       "      <td>3.5</td>\n",
       "      <td>\"매우 좋음\"</td>\n",
       "      <td>https://hotels.naver.com/hotels/N3232576?adult...</td>\n",
       "    </tr>\n",
       "    <tr>\n",
       "      <th>8</th>\n",
       "      <td>씨티 호텔</td>\n",
       "      <td>3급</td>\n",
       "      <td>0</td>\n",
       "      <td>6.4</td>\n",
       "      <td>0</td>\n",
       "      <td>\"매우 좋음\"</td>\n",
       "      <td>https://hotels.naver.com/hotels/N4301844?adult...</td>\n",
       "    </tr>\n",
       "    <tr>\n",
       "      <th>9</th>\n",
       "      <td>에버 관광호텔</td>\n",
       "      <td>3급</td>\n",
       "      <td>0</td>\n",
       "      <td>6.8</td>\n",
       "      <td>4</td>\n",
       "      <td>\"프리미엄 룸\"</td>\n",
       "      <td>https://hotels.naver.com/hotels/N1714772?adult...</td>\n",
       "    </tr>\n",
       "    <tr>\n",
       "      <th>10</th>\n",
       "      <td>시크릿</td>\n",
       "      <td>2급</td>\n",
       "      <td>0</td>\n",
       "      <td>0</td>\n",
       "      <td>0</td>\n",
       "      <td>\"프리미엄 룸\"</td>\n",
       "      <td>https://hotels.naver.com/hotels/N3030729?adult...</td>\n",
       "    </tr>\n",
       "    <tr>\n",
       "      <th>11</th>\n",
       "      <td>모텔R</td>\n",
       "      <td>3급</td>\n",
       "      <td>0</td>\n",
       "      <td>9.5</td>\n",
       "      <td>0</td>\n",
       "      <td>\"프리미엄 룸\"</td>\n",
       "      <td>https://hotels.naver.com/hotels/N5282237?adult...</td>\n",
       "    </tr>\n",
       "    <tr>\n",
       "      <th>12</th>\n",
       "      <td>로데오모텔</td>\n",
       "      <td>2급</td>\n",
       "      <td>0</td>\n",
       "      <td>6</td>\n",
       "      <td>0</td>\n",
       "      <td>\"프리미엄 룸\"</td>\n",
       "      <td>https://hotels.naver.com/hotels/N5282264?adult...</td>\n",
       "    </tr>\n",
       "    <tr>\n",
       "      <th>13</th>\n",
       "      <td>피닉스모텔</td>\n",
       "      <td>Unknown</td>\n",
       "      <td>0</td>\n",
       "      <td>9.2</td>\n",
       "      <td>0</td>\n",
       "      <td>\"프리미엄 룸\"</td>\n",
       "      <td>https://hotels.naver.com/hotels/N5282255?adult...</td>\n",
       "    </tr>\n",
       "    <tr>\n",
       "      <th>14</th>\n",
       "      <td>부천 포스타</td>\n",
       "      <td>2성급</td>\n",
       "      <td>0</td>\n",
       "      <td>8.6</td>\n",
       "      <td>0</td>\n",
       "      <td>\"프리미엄 룸\"</td>\n",
       "      <td>https://hotels.naver.com/hotels/KYK8970738?adu...</td>\n",
       "    </tr>\n",
       "    <tr>\n",
       "      <th>15</th>\n",
       "      <td>부천(중동) 노블레스</td>\n",
       "      <td>Unknown</td>\n",
       "      <td>0</td>\n",
       "      <td>7.2</td>\n",
       "      <td>0</td>\n",
       "      <td>\"프리미엄 룸\"</td>\n",
       "      <td>https://hotels.naver.com/hotels/KYK1070527952?...</td>\n",
       "    </tr>\n",
       "    <tr>\n",
       "      <th>16</th>\n",
       "      <td>부천 알프스</td>\n",
       "      <td>3급</td>\n",
       "      <td>0</td>\n",
       "      <td>0</td>\n",
       "      <td>0</td>\n",
       "      <td>\"프리미엄 룸\"</td>\n",
       "      <td>https://hotels.naver.com/hotels/KYK7230315?adu...</td>\n",
       "    </tr>\n",
       "    <tr>\n",
       "      <th>17</th>\n",
       "      <td>Cozy 2 bedroom apartment in Incheon</td>\n",
       "      <td>Unknown</td>\n",
       "      <td>0</td>\n",
       "      <td>0</td>\n",
       "      <td>0</td>\n",
       "      <td>\"프리미엄 룸\"</td>\n",
       "      <td>https://hotels.naver.com/hotels/KYK1070751793?...</td>\n",
       "    </tr>\n",
       "    <tr>\n",
       "      <th>18</th>\n",
       "      <td>부천(중동) 로잔</td>\n",
       "      <td>2급</td>\n",
       "      <td>0</td>\n",
       "      <td>0</td>\n",
       "      <td>0</td>\n",
       "      <td>\"프리미엄 룸\"</td>\n",
       "      <td>https://hotels.naver.com/hotels/KYK1070574110?...</td>\n",
       "    </tr>\n",
       "    <tr>\n",
       "      <th>19</th>\n",
       "      <td>마이 호텔 부천</td>\n",
       "      <td>3급</td>\n",
       "      <td>0</td>\n",
       "      <td>0</td>\n",
       "      <td>0</td>\n",
       "      <td>\"프리미엄 룸\"</td>\n",
       "      <td>https://hotels.naver.com/hotels/N2749697?adult...</td>\n",
       "    </tr>\n",
       "    <tr>\n",
       "      <th>20</th>\n",
       "      <td>부천 A+</td>\n",
       "      <td>2급</td>\n",
       "      <td>0</td>\n",
       "      <td>8</td>\n",
       "      <td>0</td>\n",
       "      <td>\"프리미엄 룸\"</td>\n",
       "      <td>https://hotels.naver.com/hotels/KYK7229993?adu...</td>\n",
       "    </tr>\n",
       "    <tr>\n",
       "      <th>21</th>\n",
       "      <td>부천(송내) 마루</td>\n",
       "      <td>Unknown</td>\n",
       "      <td>0</td>\n",
       "      <td>0</td>\n",
       "      <td>0</td>\n",
       "      <td>\"프리미엄 룸\"</td>\n",
       "      <td>https://hotels.naver.com/hotels/KYK9100095?adu...</td>\n",
       "    </tr>\n",
       "    <tr>\n",
       "      <th>22</th>\n",
       "      <td>부천(상동) N</td>\n",
       "      <td>Unknown</td>\n",
       "      <td>0</td>\n",
       "      <td>0</td>\n",
       "      <td>0</td>\n",
       "      <td>\"프리미엄 룸\"</td>\n",
       "      <td>https://hotels.naver.com/hotels/KYK9100094?adu...</td>\n",
       "    </tr>\n",
       "    <tr>\n",
       "      <th>23</th>\n",
       "      <td>인천(부평) 아이유</td>\n",
       "      <td>Unknown</td>\n",
       "      <td>0</td>\n",
       "      <td>0</td>\n",
       "      <td>0</td>\n",
       "      <td>\"프리미엄 룸\"</td>\n",
       "      <td>https://hotels.naver.com/hotels/KYK1070701894?...</td>\n",
       "    </tr>\n",
       "    <tr>\n",
       "      <th>24</th>\n",
       "      <td>팔레스</td>\n",
       "      <td>2급</td>\n",
       "      <td>0</td>\n",
       "      <td>0</td>\n",
       "      <td>0</td>\n",
       "      <td>\"프리미엄 룸\"</td>\n",
       "      <td>https://hotels.naver.com/hotels/N3030742?adult...</td>\n",
       "    </tr>\n",
       "    <tr>\n",
       "      <th>25</th>\n",
       "      <td>아이비원룸텔</td>\n",
       "      <td>2급</td>\n",
       "      <td>0</td>\n",
       "      <td>0</td>\n",
       "      <td>0</td>\n",
       "      <td>\"프리미엄 룸\"</td>\n",
       "      <td>https://hotels.naver.com/hotels/KYK1070003103?...</td>\n",
       "    </tr>\n",
       "    <tr>\n",
       "      <th>26</th>\n",
       "      <td>테마파크 관광호텔</td>\n",
       "      <td>3급</td>\n",
       "      <td>0</td>\n",
       "      <td>8.2</td>\n",
       "      <td>2.5</td>\n",
       "      <td>\"프리미엄 룸\"</td>\n",
       "      <td>https://hotels.naver.com/hotels/N1658852?adult...</td>\n",
       "    </tr>\n",
       "    <tr>\n",
       "      <th>27</th>\n",
       "      <td>젠틀맨호텔</td>\n",
       "      <td>2급</td>\n",
       "      <td>0</td>\n",
       "      <td>0</td>\n",
       "      <td>0</td>\n",
       "      <td>\"프리미엄 룸\"</td>\n",
       "      <td>https://hotels.naver.com/hotels/N1820660?adult...</td>\n",
       "    </tr>\n",
       "  </tbody>\n",
       "</table>\n",
       "</div>"
      ],
      "text/plain": [
       "                                   호텔이름     호텔성급 부킹닷컴평점 호텔스컴바인평점 트립어드바이저평점  \\\n",
       "0                              부천 고려 호텔      3성급    7.2        8       3.5   \n",
       "1                               폴라리스 호텔       3급    7.9      8.5       3.5   \n",
       "2                             부천 플로체 호텔       3급      0      7.8       4.5   \n",
       "3                                호텔 제니스      1성급    6.8      7.6       3.5   \n",
       "4                           B-Stay 부천호텔      2성급      0      8.5         0   \n",
       "5                                호텔 코보스       3급      0      7.9         4   \n",
       "6                           멀티 부티크 호텔 K       2급      0        0         3   \n",
       "7                                  Sr호텔       2급    7.8      7.7       3.5   \n",
       "8                                 씨티 호텔       3급      0      6.4         0   \n",
       "9                               에버 관광호텔       3급      0      6.8         4   \n",
       "10                                  시크릿       2급      0        0         0   \n",
       "11                                  모텔R       3급      0      9.5         0   \n",
       "12                                로데오모텔       2급      0        6         0   \n",
       "13                                피닉스모텔  Unknown      0      9.2         0   \n",
       "14                               부천 포스타      2성급      0      8.6         0   \n",
       "15                          부천(중동) 노블레스  Unknown      0      7.2         0   \n",
       "16                               부천 알프스       3급      0        0         0   \n",
       "17  Cozy 2 bedroom apartment in Incheon  Unknown      0        0         0   \n",
       "18                            부천(중동) 로잔       2급      0        0         0   \n",
       "19                             마이 호텔 부천       3급      0        0         0   \n",
       "20                                부천 A+       2급      0        8         0   \n",
       "21                            부천(송내) 마루  Unknown      0        0         0   \n",
       "22                             부천(상동) N  Unknown      0        0         0   \n",
       "23                           인천(부평) 아이유  Unknown      0        0         0   \n",
       "24                                  팔레스       2급      0        0         0   \n",
       "25                               아이비원룸텔       2급      0        0         0   \n",
       "26                            테마파크 관광호텔       3급      0      8.2       2.5   \n",
       "27                                젠틀맨호텔       2급      0        0         0   \n",
       "\n",
       "                             리뷰  \\\n",
       "0                        \"최고\"     \n",
       "1   \"매우 좋음\"  슬리퍼가 없었던 점이 불편했어요.   \n",
       "2   \"매우 좋음\"  슬리퍼가 없었던 점이 불편했어요.   \n",
       "3                \"만족\" 조식 이좋았어요    \n",
       "4                \"만족\" 조식 이좋았어요    \n",
       "5               \"Recommended\"     \n",
       "6               \"Recommended\"     \n",
       "7                     \"매우 좋음\"     \n",
       "8                     \"매우 좋음\"     \n",
       "9                    \"프리미엄 룸\"     \n",
       "10                   \"프리미엄 룸\"     \n",
       "11                   \"프리미엄 룸\"     \n",
       "12                   \"프리미엄 룸\"     \n",
       "13                   \"프리미엄 룸\"     \n",
       "14                   \"프리미엄 룸\"     \n",
       "15                   \"프리미엄 룸\"     \n",
       "16                   \"프리미엄 룸\"     \n",
       "17                   \"프리미엄 룸\"     \n",
       "18                   \"프리미엄 룸\"     \n",
       "19                   \"프리미엄 룸\"     \n",
       "20                   \"프리미엄 룸\"     \n",
       "21                   \"프리미엄 룸\"     \n",
       "22                   \"프리미엄 룸\"     \n",
       "23                   \"프리미엄 룸\"     \n",
       "24                   \"프리미엄 룸\"     \n",
       "25                   \"프리미엄 룸\"     \n",
       "26                   \"프리미엄 룸\"     \n",
       "27                   \"프리미엄 룸\"     \n",
       "\n",
       "                                                   링크  \n",
       "0   https://hotels.naver.com/hotels/N1658848?adult...  \n",
       "1   https://hotels.naver.com/hotels/N1711337?adult...  \n",
       "2   https://hotels.naver.com/hotels/N1714774?adult...  \n",
       "3   https://hotels.naver.com/hotels/N2004268?adult...  \n",
       "4   https://hotels.naver.com/hotels/N4479658?adult...  \n",
       "5   https://hotels.naver.com/hotels/N4012129?adult...  \n",
       "6   https://hotels.naver.com/hotels/N3005324?adult...  \n",
       "7   https://hotels.naver.com/hotels/N3232576?adult...  \n",
       "8   https://hotels.naver.com/hotels/N4301844?adult...  \n",
       "9   https://hotels.naver.com/hotels/N1714772?adult...  \n",
       "10  https://hotels.naver.com/hotels/N3030729?adult...  \n",
       "11  https://hotels.naver.com/hotels/N5282237?adult...  \n",
       "12  https://hotels.naver.com/hotels/N5282264?adult...  \n",
       "13  https://hotels.naver.com/hotels/N5282255?adult...  \n",
       "14  https://hotels.naver.com/hotels/KYK8970738?adu...  \n",
       "15  https://hotels.naver.com/hotels/KYK1070527952?...  \n",
       "16  https://hotels.naver.com/hotels/KYK7230315?adu...  \n",
       "17  https://hotels.naver.com/hotels/KYK1070751793?...  \n",
       "18  https://hotels.naver.com/hotels/KYK1070574110?...  \n",
       "19  https://hotels.naver.com/hotels/N2749697?adult...  \n",
       "20  https://hotels.naver.com/hotels/KYK7229993?adu...  \n",
       "21  https://hotels.naver.com/hotels/KYK9100095?adu...  \n",
       "22  https://hotels.naver.com/hotels/KYK9100094?adu...  \n",
       "23  https://hotels.naver.com/hotels/KYK1070701894?...  \n",
       "24  https://hotels.naver.com/hotels/N3030742?adult...  \n",
       "25  https://hotels.naver.com/hotels/KYK1070003103?...  \n",
       "26  https://hotels.naver.com/hotels/N1658852?adult...  \n",
       "27  https://hotels.naver.com/hotels/N1820660?adult...  "
      ]
     },
     "execution_count": 148,
     "metadata": {},
     "output_type": "execute_result"
    }
   ],
   "source": [
    "df = pd.DataFrame(review_data)\n",
    "df"
   ]
  },
  {
   "cell_type": "code",
   "execution_count": null,
   "id": "4e174e9b-2404-4f3f-948a-6c5cc3a538fa",
   "metadata": {},
   "outputs": [],
   "source": []
  }
 ],
 "metadata": {
  "kernelspec": {
   "display_name": "Python 3 (ipykernel)",
   "language": "python",
   "name": "python3"
  },
  "language_info": {
   "codemirror_mode": {
    "name": "ipython",
    "version": 3
   },
   "file_extension": ".py",
   "mimetype": "text/x-python",
   "name": "python",
   "nbconvert_exporter": "python",
   "pygments_lexer": "ipython3",
   "version": "3.11.7"
  }
 },
 "nbformat": 4,
 "nbformat_minor": 5
}
