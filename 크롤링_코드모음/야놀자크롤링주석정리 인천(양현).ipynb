{
 "cells": [
  {
   "cell_type": "code",
   "execution_count": 2,
   "metadata": {
    "id": "EglD-HqLAfJO"
   },
   "outputs": [
    {
     "name": "stdout",
     "output_type": "stream",
     "text": [
      "Requirement already satisfied: selenium in c:\\users\\hyun9\\anaconda3\\lib\\site-packages (4.24.0)\n",
      "Requirement already satisfied: urllib3<3,>=1.26 in c:\\users\\hyun9\\anaconda3\\lib\\site-packages (from urllib3[socks]<3,>=1.26->selenium) (2.0.7)\n",
      "Requirement already satisfied: trio~=0.17 in c:\\users\\hyun9\\anaconda3\\lib\\site-packages (from selenium) (0.26.2)\n",
      "Requirement already satisfied: trio-websocket~=0.9 in c:\\users\\hyun9\\anaconda3\\lib\\site-packages (from selenium) (0.11.1)\n",
      "Requirement already satisfied: certifi>=2021.10.8 in c:\\users\\hyun9\\anaconda3\\lib\\site-packages (from selenium) (2024.6.2)\n",
      "Requirement already satisfied: typing_extensions~=4.9 in c:\\users\\hyun9\\anaconda3\\lib\\site-packages (from selenium) (4.9.0)\n",
      "Requirement already satisfied: websocket-client~=1.8 in c:\\users\\hyun9\\anaconda3\\lib\\site-packages (from selenium) (1.8.0)\n",
      "Requirement already satisfied: attrs>=23.2.0 in c:\\users\\hyun9\\anaconda3\\lib\\site-packages (from trio~=0.17->selenium) (24.2.0)\n",
      "Requirement already satisfied: sortedcontainers in c:\\users\\hyun9\\anaconda3\\lib\\site-packages (from trio~=0.17->selenium) (2.4.0)\n",
      "Requirement already satisfied: idna in c:\\users\\hyun9\\anaconda3\\lib\\site-packages (from trio~=0.17->selenium) (3.4)\n",
      "Requirement already satisfied: outcome in c:\\users\\hyun9\\anaconda3\\lib\\site-packages (from trio~=0.17->selenium) (1.3.0.post0)\n",
      "Requirement already satisfied: sniffio>=1.3.0 in c:\\users\\hyun9\\anaconda3\\lib\\site-packages (from trio~=0.17->selenium) (1.3.0)\n",
      "Requirement already satisfied: cffi>=1.14 in c:\\users\\hyun9\\anaconda3\\lib\\site-packages (from trio~=0.17->selenium) (1.16.0)\n",
      "Requirement already satisfied: wsproto>=0.14 in c:\\users\\hyun9\\anaconda3\\lib\\site-packages (from trio-websocket~=0.9->selenium) (1.2.0)\n",
      "Requirement already satisfied: pysocks!=1.5.7,<2.0,>=1.5.6 in c:\\users\\hyun9\\anaconda3\\lib\\site-packages (from urllib3[socks]<3,>=1.26->selenium) (1.7.1)\n",
      "Requirement already satisfied: pycparser in c:\\users\\hyun9\\anaconda3\\lib\\site-packages (from cffi>=1.14->trio~=0.17->selenium) (2.21)\n",
      "Requirement already satisfied: h11<1,>=0.9.0 in c:\\users\\hyun9\\anaconda3\\lib\\site-packages (from wsproto>=0.14->trio-websocket~=0.9->selenium) (0.14.0)\n"
     ]
    }
   ],
   "source": [
    "!pip install selenium"
   ]
  },
  {
   "cell_type": "markdown",
   "metadata": {
    "id": "Bk7L22JHBixL"
   },
   "source": [
    "# 필요한 패키지 불러오기"
   ]
  },
  {
   "cell_type": "code",
   "execution_count": 3,
   "metadata": {
    "id": "4G4vRcYfBUis"
   },
   "outputs": [],
   "source": [
    "from selenium import webdriver\n",
    "import time\n",
    "import pandas as pd\n",
    "from bs4 import BeautifulSoup\n",
    "import datetime\n",
    "from datetime import timedelta\n",
    "from selenium.webdriver.common.by import By\n",
    "from selenium.webdriver.support import expected_conditions as EC\n",
    "from selenium.webdriver.support.ui import WebDriverWait\n",
    "from bs4 import BeautifulSoup as bs\n",
    "from selenium.common.exceptions import NoSuchElementException\n",
    "from selenium.common.exceptions import TimeoutException\n",
    "import pickle"
   ]
  },
  {
   "cell_type": "markdown",
   "metadata": {
    "id": "AW6Dj1gXCyi8"
   },
   "source": [
    "# 호텔별 URL을 가져오기"
   ]
  },
  {
   "cell_type": "code",
   "execution_count": 4,
   "metadata": {
    "id": "7V20LnZcBXif"
   },
   "outputs": [],
   "source": [
    "# url 함수\n",
    "def make_url(Url):\n",
    "    import time\n",
    "    chrome_options = webdriver.ChromeOptions()\n",
    "    chrome_options.add_argument('--headless')\n",
    "    chrome_options.add_argument('--no-sandbox')\n",
    "    chrome_options.add_argument('--disable-dev-shm-usage')\n",
    "    driver = webdriver.Chrome()\n",
    "    driver.get(Url)\n",
    "    time.sleep(2)\n",
    "    html = driver.page_source\n",
    "    soup = BeautifulSoup(html, 'html.parser')\n",
    "    \n",
    "    click1 = driver.find_element(By.XPATH,'//*[@id=\"__next\"]/div/header/section/div/div[1]/section[2]/div/div/div/div/div[2]/div/div[1]/span[1]/span')\n",
    "    click1.click()\n",
    "    time.sleep(6)\n",
    "    click2 = driver.find_element(By.XPATH,'/html/body/div[12]/div/div/section/div/div[3]/div[4]/section/div[2]/div/span[1]')\n",
    "    click2.click()\n",
    "    click3 = driver.find_element(By.XPATH,'/html/body/div[12]/div/div/section/div/div[3]/div[4]/section/div[2]/div/span[2]')\n",
    "    click3.click()\n",
    "    time.sleep(2)\n",
    "    click4 = driver.find_element(By.XPATH,'/html/body/div[12]/div/div/footer/div/button[2]')\n",
    "    click4.click()\n",
    "    time.sleep(2)\n",
    "    #무한 스크롤\n",
    "    \n",
    "    time.sleep(1)\n",
    "    \n",
    "    SCROLL_PAUSE_TIME = 1.5\n",
    "    \n",
    "    # Get scroll height\n",
    "    last_height = driver.execute_script(\"return document.body.scrollHeight\")\n",
    "    \n",
    "    while True:\n",
    "    # Scroll down to bottom\n",
    "        driver.execute_script(\"window.scrollTo(0, document.body.scrollHeight);\")\n",
    "        \n",
    "        # Wait to load page\n",
    "        time.sleep(SCROLL_PAUSE_TIME)\n",
    "        driver.execute_script(\"window.scrollTo(0, document.body.scrollHeight-50);\")\n",
    "        time.sleep(SCROLL_PAUSE_TIME)\n",
    "        \n",
    "        # Calculate new scroll height and compare with last scroll height\n",
    "        new_height = driver.execute_script(\"return document.body.scrollHeight\")\n",
    "        \n",
    "        if new_height == last_height:\n",
    "            break\n",
    "        \n",
    "        last_height = new_height  \n",
    "\n",
    "    soup = BeautifulSoup(html, 'html.parser')\n",
    "    data = soup.select(\"section > div > div > a\")\n",
    "        \n",
    "    for d in data:\n",
    "        hotelurl.append(d.attrs['href'])\n",
    "    # driver.close()\n",
    "  "
   ]
  },
  {
   "cell_type": "code",
   "execution_count": 8,
   "metadata": {
    "id": "4WRchQYYCSom"
   },
   "outputs": [],
   "source": [
    "hotelurl = []\n",
    "make_url(\"https://www.yanolja.com/hotel/r-900586?pageKey=1724956106096\")"
   ]
  },
  {
   "cell_type": "markdown",
   "metadata": {
    "id": "W8o2VRLGEVrs"
   },
   "source": [
    "# 리뷰 수집"
   ]
  },
  {
   "cell_type": "code",
   "execution_count": 16,
   "metadata": {},
   "outputs": [],
   "source": [
    "chrome_options = webdriver.ChromeOptions()\n",
    "chrome_options.add_argument('--headless')\n",
    "chrome_options.add_argument('--no-sandbox')\n",
    "chrome_options.add_argument('--disable-dev-shm-usage')\n",
    "driver = webdriver.Chrome()\n",
    "\n",
    "hotel = []\n",
    "star = []\n",
    "reviews = []\n",
    "rev_sum_pos = []\n",
    "rev_sum_neg = []\n",
    "columns = ['hotel','star' ,'reviews', 'Review Summary Pos', 'Review Summary Neg','url' ]   \n",
    "\n",
    "\n",
    "for url in hotelurl:\n",
    "    cnt = 0\n",
    "    SCROLL_PAUSE_TIME = 0.5\n",
    "    time.sleep(1)\n",
    "    Url = \"https://www.yanolja.com\"+url\n",
    "    driver.get(Url)\n",
    "    WebDriverWait(driver, 10)\n",
    "    # try:\n",
    "    # # 요소 찾기 시도\n",
    "    try : \n",
    "        rev_sum_pos.append(driver.find_element(By.CLASS_NAME, 'css-4a3h28').text)\n",
    "        element = WebDriverWait(driver, 5).until(\n",
    "        EC.element_to_be_clickable((By.XPATH, \"//div[text()='낮은 평점 요약']\")))\n",
    "        element.click()\n",
    "        time.sleep(1)\n",
    "    except NoSuchElementException:\n",
    "        rev_sum_pos.append(\"\")\n",
    "    try:   \n",
    "        element = WebDriverWait(driver, 5).until(\n",
    "        EC.element_to_be_clickable((By.XPATH, \"//div[text()='낮은 평점 요약']\")))\n",
    "        element.click()\n",
    "        time.sleep(1)\n",
    "    except TimeoutException:\n",
    "        pass\n",
    "    try :    \n",
    "        rev_sum_neg.append(driver.find_element(By.CLASS_NAME, 'css-4a3h28').text) \n",
    "    except NoSuchElementException:\n",
    "        rev_sum_neg.append(\"\") \n",
    "    # except NoSuchElementException:\n",
    "    # # 요소가 없을 경우 공백 문자열 설정\n",
    "    #     rev_sum_pos = ''\n",
    "    #     rev_sum_neg = ''\n",
    "    \n",
    "    hotel.append(driver.find_element(By.CSS_SELECTOR,'#__next > div > div > main > article > div.css-1cc3d9 > div > div.css-1e56347 > div.css-11vo59c > h1').text)\n",
    "    \n",
    "    # 리뷰 페이지 클릭 (Click review page)\n",
    "    try:\n",
    "        element2 = WebDriverWait(driver, 5).until(\n",
    "        EC.element_to_be_clickable((By.CLASS_NAME,'css-xa55ms'))\n",
    "        )\n",
    "    except NoSuchElementException :\n",
    "        element2 = WebDriverWait(driver, 5).until(\n",
    "        EC.element_to_be_clickable((By.CLASS_NAME,'css-ufp1xj'))\n",
    "        )\n",
    "    except TimeoutException:\n",
    "        element2 = WebDriverWait(driver, 5).until(\n",
    "        EC.element_to_be_clickable((By.CLASS_NAME,'css-ufp1xj'))\n",
    "        )\n",
    "    element2.click()\n",
    "    # 무한 스크롤\n",
    "    import time\n",
    "    time.sleep(1)\n",
    "    \n",
    "    # SCROLL_PAUSE_TIME = 1.5\n",
    "    element = WebDriverWait(driver, 10).until(\n",
    "    EC.element_to_be_clickable((By.CLASS_NAME, \"css-stl2cn\")))\n",
    "    element.click()\n",
    "    \n",
    "    element = WebDriverWait(driver, 10).until(\n",
    "    EC.element_to_be_clickable((By.XPATH, \"//div[text()='평점 낮은순']\")))\n",
    "    element.click()\n",
    "    # Get scroll height\n",
    "    last_height = driver.execute_script(\"return document.body.scrollHeight\")\n",
    "    max = int(driver.find_element(By.CLASS_NAME,\"css-12rhouj\").text.replace(\"(\",\"\").replace(\")\",\"\"))\n",
    "    while True:\n",
    "        # Scroll down to bottom\n",
    "        driver.execute_script(\"window.scrollTo(0, document.body.scrollHeight);\")\n",
    "    \n",
    "        # Wait to load page\n",
    "        time.sleep(SCROLL_PAUSE_TIME)\n",
    "        driver.execute_script(\"window.scrollTo(0, document.body.scrollHeight-50);\")\n",
    "        time.sleep(SCROLL_PAUSE_TIME)\n",
    "    \n",
    "        # Calculate new scroll height and compare with last scroll height\n",
    "        new_height = driver.execute_script(\"return document.body.scrollHeight\")\n",
    "        if max > 1000:\n",
    "            if(cnt>20):\n",
    "                break\n",
    "            cnt +=1\n",
    "        if new_height == last_height:\n",
    "            break\n",
    "    \n",
    "        last_height = new_height\n",
    "    \n",
    "    # 스크롤 끝나고 페이지 elements 가져오기\n",
    "    star.append(float(driver.find_element(By.CLASS_NAME, 'css-u41ekg').text))\n",
    "    soup = bs(driver.page_source, \"lxml\")\n",
    "    \n",
    "    # 특정 클래스 이름을 가진 모든 요소 찾기\n",
    "    elements = soup.find_all('p')\n",
    "    temp = \"\"\n",
    "    # 데이터 추출 \n",
    "    review = driver.find_elements(By.CLASS_NAME,\"css-c92dc4\")\n",
    "    for i in review:\n",
    "        temp += i.text\n",
    "    reviews.append(temp)     \n",
    "    \n",
    "df = pd.DataFrame({\"Hotel\" : hotel, \"Star\" : star ,\"Reviews\" : reviews, \"Review Pos\" : rev_sum_pos,\"Review Neg\" : rev_sum_neg,\"Url\": hotelurl})   \n",
    "df[\"Url\"] =\"https://www.yanolja.com\"+df[\"Url\"]"
   ]
  },
  {
   "cell_type": "code",
   "execution_count": 18,
   "metadata": {},
   "outputs": [],
   "source": [
    "with open('ic.pickle', 'wb') as f:\n",
    "    pickle.dump(df, f)"
   ]
  },
  {
   "cell_type": "code",
   "execution_count": null,
   "metadata": {},
   "outputs": [],
   "source": []
  }
 ],
 "metadata": {
  "colab": {
   "authorship_tag": "ABX9TyMll1y3bmib3+eg4HVwTde4",
   "include_colab_link": true,
   "name": "야놀자크롤링주석정리.ipynb",
   "provenance": [],
   "toc_visible": true
  },
  "kernelspec": {
   "display_name": "Python 3 (ipykernel)",
   "language": "python",
   "name": "python3"
  },
  "language_info": {
   "codemirror_mode": {
    "name": "ipython",
    "version": 3
   },
   "file_extension": ".py",
   "mimetype": "text/x-python",
   "name": "python",
   "nbconvert_exporter": "python",
   "pygments_lexer": "ipython3",
   "version": "3.11.7"
  }
 },
 "nbformat": 4,
 "nbformat_minor": 4
}
